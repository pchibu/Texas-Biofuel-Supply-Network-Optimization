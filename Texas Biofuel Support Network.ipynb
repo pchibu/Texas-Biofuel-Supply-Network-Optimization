{
 "cells": [
  {
   "cell_type": "markdown",
   "metadata": {},
   "source": [
    "## SUPPLY CHAIN NETWORK DESIGN TO SUPPORT BIOFUEL PRODUCTION\n",
    "<p> A company has decided to produce bioethanol in the state of Texas. The company needs to design a supply chain consisting of suppliers, hubs and biorefineries for the conversion of raw material (i.e., biomass) into biofuel. </p>\n",
    "<p> The potential locations to open hubs correspond to train stations because the transportation mode utilized to move the raw material from the hubs to the biorefineries is train, while truck is the transportation mode utilized to move the biomass from the counties to the hubs.</p>\n",
    "<p> This project is to minimize the investment and transportation costs by finding the optimal number of hubs and biorefineries that the company needs to install as well as the flows between suppliers-hubs and hubs-biorefineries.</p>\n",
    "\n",
    "\n",
    "<p> PuLP is the Python library installed, imported and used in this project for linear optimization </p>"
   ]
  },
  {
   "cell_type": "code",
   "execution_count": 1,
   "metadata": {
    "collapsed": true
   },
   "outputs": [],
   "source": [
    "# Import the necessary libraries\n",
    "import numpy as np\n",
    "import math\n",
    "import matplotlib.pyplot as plt\n",
    "import pandas as pd\n",
    "import pulp\n",
    "from pulp import*"
   ]
  },
  {
   "cell_type": "markdown",
   "metadata": {},
   "source": [
    "## Data Importation and Formatting"
   ]
  },
  {
   "cell_type": "code",
   "execution_count": 2,
   "metadata": {},
   "outputs": [],
   "source": [
    "suppliers = pd.read_csv('TX_suppliers.csv')\n",
    "suppliers['supply'] = round(suppliers.supply, 2)\n",
    "suppliers = suppliers.drop(['index'], axis =1)\n",
    "supplies = suppliers.supply\n",
    "total_supply = sum(suppliers.supply)\n",
    "\n",
    "hubs = pd.read_csv('TX_hubs.csv')\n",
    "hubs = hubs.drop(['index'], axis =1)\n",
    "Hub_Capacity = hubs.capacity\n",
    "Hub_Invest = hubs.invest.iloc[0]\n",
    "Hubs = hubs['hub']\n",
    "\n",
    "road = pd.read_csv('TX_roads.csv')\n",
    "road['cost'] = round(road.cost, 2)\n",
    "road = road.drop(['index'], axis =1)\n",
    "\n",
    "plants = pd.read_csv('TX_plants.csv')\n",
    "Yield = plants['yield'].iloc[0]\n",
    "plants['plt_capacity'] = plants.capacity/plants['yield']\n",
    "plants = plants.drop(['index'], axis =1)\n",
    "Plt_Invest = plants.invest.iloc[0]\n",
    "\n",
    "rail = pd.read_csv('TX_railroads.csv')\n",
    "rail['cost'] = round(rail.cost, 2)\n",
    "rail['plt_invest'] = len(rail)*[plants.invest.iloc[0]]\n",
    "rail = rail.drop(['index'], axis =1)\n",
    "loading = rail.loading\n",
    "\n",
    "network = pd.read_csv('TX_network.csv')\n",
    "Demand = network.demand.iloc[0]\n",
    "demand = Demand/Yield\n",
    "\n",
    "unmet_Demand = demand - total_supply"
   ]
  },
  {
   "cell_type": "markdown",
   "metadata": {},
   "source": [
    "## Introducing 3rd Party Supplier\n",
    "<p> Since the sum of the county supplies can not meet the demand, a 3rd party supplier is introduced with an estimated unit cost </p>"
   ]
  },
  {
   "cell_type": "code",
   "execution_count": 3,
   "metadata": {},
   "outputs": [],
   "source": [
    "suppliers.loc[254] = ['3_party', unmet_Demand]\n",
    "suppliers['supply'] = round(suppliers.supply, 2)"
   ]
  },
  {
   "cell_type": "code",
   "execution_count": 4,
   "metadata": {},
   "outputs": [
    {
     "name": "stdout",
     "output_type": "stream",
     "text": [
      "The 3rd-Party estimate cost is $92.00\n"
     ]
    }
   ],
   "source": [
    "# 3rd Party Estimate Cost\n",
    "Third_cost = sum(road.cost)/len(road)\n",
    "Third_cost = round(Third_cost)\n",
    "Third_amount = \"${:,.2f}\".format(Third_cost)\n",
    "print('The 3rd-Party estimate cost is ' + Third_amount)"
   ]
  },
  {
   "cell_type": "code",
   "execution_count": 5,
   "metadata": {},
   "outputs": [],
   "source": [
    "# Adding 3rd Party Supplier to road table\n",
    "n = 1303\n",
    "County = ['3_party'] * n\n",
    "Distance = [0] * n\n",
    "Cost = [Third_cost] * n\n",
    "Third = {'county': County, 'distance':Distance, 'cost':Cost}\n",
    "Third = pd.DataFrame(Third)\n",
    "Third['hubs'] = Hubs"
   ]
  },
  {
   "cell_type": "code",
   "execution_count": 6,
   "metadata": {},
   "outputs": [],
   "source": [
    "road = road.append(Third, ignore_index = True) "
   ]
  },
  {
   "cell_type": "code",
   "execution_count": 7,
   "metadata": {},
   "outputs": [],
   "source": [
    "# Setting the indices\n",
    "hubs = hubs.set_index(['hub'])\n",
    "suppliers = suppliers.set_index(['county'])\n",
    "plants = plants.set_index(['plant'])\n",
    "road = road.set_index(['county', 'hubs'])\n",
    "rail = rail.set_index(['hubs','plant'])"
   ]
  },
  {
   "cell_type": "markdown",
   "metadata": {},
   "source": [
    "## Data Exploration and Optimization"
   ]
  },
  {
   "cell_type": "code",
   "execution_count": 8,
   "metadata": {
    "scrolled": true
   },
   "outputs": [],
   "source": [
    "# Decision Variables Defintion\n",
    "road_supply = pulp.LpVariable.dicts('road_supply', [(i, j) for i in suppliers.index\n",
    "                                                    for j in hubs.index], lowBound=0, cat='Continuous')\n",
    "\n",
    "hub_status = pulp.LpVariable.dicts(\"hub_status\", [j for j in hubs.index], cat='Binary')\n",
    "\n",
    "rail_supply = pulp.LpVariable.dicts(\"rail_supply\",[(j, k) for j in hubs.index\n",
    "                                                   for k in plants.index], lowBound=0, cat='Continuous')\n",
    "\n",
    "plt_status = pulp.LpVariable.dicts(\"plt_status\",[k for k in plants.index], cat='Binary')"
   ]
  },
  {
   "cell_type": "markdown",
   "metadata": {},
   "source": [
    "## Model"
   ]
  },
  {
   "cell_type": "code",
   "execution_count": 9,
   "metadata": {
    "collapsed": true
   },
   "outputs": [],
   "source": [
    "# Model Initialization\n",
    "model = pulp.LpProblem(\"cost minimising supply network\", pulp.LpMinimize)"
   ]
  },
  {
   "cell_type": "code",
   "execution_count": 10,
   "metadata": {},
   "outputs": [],
   "source": [
    "# Objective Function\n",
    "model += pulp.lpSum(\n",
    "    [[road_supply[i, j] * road.loc[(i, j), 'cost']]  + \n",
    "     [hub_status[j] * hubs.loc[j, 'invest']] for i in suppliers.index for j in hubs.index] + [[rail_supply[j, k] * rail.loc[(j, k), 'cost']] + \n",
    "     [plt_status[k] * plants.loc[k, 'invest']] for j in hubs.index for k in plants.index]) "
   ]
  },
  {
   "cell_type": "code",
   "execution_count": 11,
   "metadata": {},
   "outputs": [],
   "source": [
    "# Demand Constraints\n",
    "model += pulp.lpSum([road_supply[i, j] for i in suppliers.index for j in hubs.index]) == demand\n",
    "model += pulp.lpSum([rail_supply[j, k] for j in hubs.index for k in plants.index]) == demand"
   ]
  },
  {
   "cell_type": "code",
   "execution_count": 12,
   "metadata": {
    "collapsed": true
   },
   "outputs": [],
   "source": [
    "# Hub Capacity Constraint\n",
    "for j in hubs.index:\n",
    "    model += pulp.lpSum([road_supply[i, j] for i in suppliers.index]) <= hubs.loc[j, 'capacity'] * hub_status[j]"
   ]
  },
  {
   "cell_type": "code",
   "execution_count": 13,
   "metadata": {
    "collapsed": true
   },
   "outputs": [],
   "source": [
    "# Plant Capacity Constraint\n",
    "for k in plants.index:\n",
    "    model += pulp.lpSum([rail_supply[j, k] for j in hubs.index]) <= plants.loc[k, 'plt_capacity'] * plt_status[k]"
   ]
  },
  {
   "cell_type": "code",
   "execution_count": 14,
   "metadata": {},
   "outputs": [
    {
     "data": {
      "text/plain": [
       "'Optimal'"
      ]
     },
     "execution_count": 14,
     "metadata": {},
     "output_type": "execute_result"
    }
   ],
   "source": [
    "# Model Status\n",
    "model.solve()\n",
    "pulp.LpStatus[model.status]"
   ]
  },
  {
   "cell_type": "markdown",
   "metadata": {},
   "source": [
    "## Result"
   ]
  },
  {
   "cell_type": "code",
   "execution_count": 15,
   "metadata": {},
   "outputs": [
    {
     "name": "stdout",
     "output_type": "stream",
     "text": [
      "The optimal cost is $1,725,868,653,500.00\n"
     ]
    }
   ],
   "source": [
    "cost = pulp.value(model.objective)\n",
    "amount = \"${:,.2f}\".format(cost)\n",
    "print('The optimal cost is ' + amount)"
   ]
  },
  {
   "cell_type": "code",
   "execution_count": 16,
   "metadata": {},
   "outputs": [],
   "source": [
    "# Hub Supply Table Formulation\n",
    "rd_output = []\n",
    "for i, j in road_supply:\n",
    "    var_output = {\n",
    "        'county': i,\n",
    "        'hubs': j,\n",
    "        'road_supply': road_supply[(i, j)].varValue,\n",
    "        'hub_status': hub_status[j].varValue\n",
    "    }\n",
    "    rd_output.append(var_output)\n",
    "rd_output_df = pd.DataFrame.from_records(rd_output).sort_values(['county', 'hubs'])\n",
    "rd_output_df.set_index(['county', 'hubs'], inplace=True)"
   ]
  },
  {
   "cell_type": "markdown",
   "metadata": {},
   "source": [
    "## Hub Supply Output"
   ]
  },
  {
   "cell_type": "code",
   "execution_count": 17,
   "metadata": {},
   "outputs": [
    {
     "data": {
      "text/html": [
       "<div>\n",
       "<style scoped>\n",
       "    .dataframe tbody tr th:only-of-type {\n",
       "        vertical-align: middle;\n",
       "    }\n",
       "\n",
       "    .dataframe tbody tr th {\n",
       "        vertical-align: top;\n",
       "    }\n",
       "\n",
       "    .dataframe thead th {\n",
       "        text-align: right;\n",
       "    }\n",
       "</style>\n",
       "<table border=\"1\" class=\"dataframe\">\n",
       "  <thead>\n",
       "    <tr style=\"text-align: right;\">\n",
       "      <th></th>\n",
       "      <th>hub_status</th>\n",
       "      <th>road_supply</th>\n",
       "    </tr>\n",
       "    <tr>\n",
       "      <th>hubs</th>\n",
       "      <th></th>\n",
       "      <th></th>\n",
       "    </tr>\n",
       "  </thead>\n",
       "  <tbody>\n",
       "    <tr>\n",
       "      <th>512</th>\n",
       "      <td>1.0</td>\n",
       "      <td>300000.000</td>\n",
       "    </tr>\n",
       "    <tr>\n",
       "      <th>17246</th>\n",
       "      <td>1.0</td>\n",
       "      <td>300000.000</td>\n",
       "    </tr>\n",
       "    <tr>\n",
       "      <th>17318</th>\n",
       "      <td>1.0</td>\n",
       "      <td>300000.000</td>\n",
       "    </tr>\n",
       "    <tr>\n",
       "      <th>17387</th>\n",
       "      <td>1.0</td>\n",
       "      <td>300000.000</td>\n",
       "    </tr>\n",
       "    <tr>\n",
       "      <th>17399</th>\n",
       "      <td>1.0</td>\n",
       "      <td>300000.000</td>\n",
       "    </tr>\n",
       "    <tr>\n",
       "      <th>17482</th>\n",
       "      <td>1.0</td>\n",
       "      <td>300000.000</td>\n",
       "    </tr>\n",
       "    <tr>\n",
       "      <th>17517</th>\n",
       "      <td>1.0</td>\n",
       "      <td>300000.000</td>\n",
       "    </tr>\n",
       "    <tr>\n",
       "      <th>17623</th>\n",
       "      <td>1.0</td>\n",
       "      <td>300000.000</td>\n",
       "    </tr>\n",
       "    <tr>\n",
       "      <th>17695</th>\n",
       "      <td>1.0</td>\n",
       "      <td>63407.767</td>\n",
       "    </tr>\n",
       "    <tr>\n",
       "      <th>17850</th>\n",
       "      <td>1.0</td>\n",
       "      <td>300000.000</td>\n",
       "    </tr>\n",
       "    <tr>\n",
       "      <th>17886</th>\n",
       "      <td>1.0</td>\n",
       "      <td>300000.000</td>\n",
       "    </tr>\n",
       "    <tr>\n",
       "      <th>17909</th>\n",
       "      <td>1.0</td>\n",
       "      <td>300000.000</td>\n",
       "    </tr>\n",
       "    <tr>\n",
       "      <th>17969</th>\n",
       "      <td>1.0</td>\n",
       "      <td>300000.000</td>\n",
       "    </tr>\n",
       "    <tr>\n",
       "      <th>18006</th>\n",
       "      <td>1.0</td>\n",
       "      <td>300000.000</td>\n",
       "    </tr>\n",
       "    <tr>\n",
       "      <th>18012</th>\n",
       "      <td>1.0</td>\n",
       "      <td>300000.000</td>\n",
       "    </tr>\n",
       "    <tr>\n",
       "      <th>18097</th>\n",
       "      <td>1.0</td>\n",
       "      <td>300000.000</td>\n",
       "    </tr>\n",
       "    <tr>\n",
       "      <th>18103</th>\n",
       "      <td>1.0</td>\n",
       "      <td>300000.000</td>\n",
       "    </tr>\n",
       "    <tr>\n",
       "      <th>18119</th>\n",
       "      <td>1.0</td>\n",
       "      <td>300000.000</td>\n",
       "    </tr>\n",
       "    <tr>\n",
       "      <th>18255</th>\n",
       "      <td>1.0</td>\n",
       "      <td>300000.000</td>\n",
       "    </tr>\n",
       "    <tr>\n",
       "      <th>18264</th>\n",
       "      <td>1.0</td>\n",
       "      <td>300000.000</td>\n",
       "    </tr>\n",
       "    <tr>\n",
       "      <th>18307</th>\n",
       "      <td>1.0</td>\n",
       "      <td>300000.000</td>\n",
       "    </tr>\n",
       "    <tr>\n",
       "      <th>18483</th>\n",
       "      <td>1.0</td>\n",
       "      <td>300000.000</td>\n",
       "    </tr>\n",
       "  </tbody>\n",
       "</table>\n",
       "</div>"
      ],
      "text/plain": [
       "       hub_status  road_supply\n",
       "hubs                          \n",
       "512           1.0   300000.000\n",
       "17246         1.0   300000.000\n",
       "17318         1.0   300000.000\n",
       "17387         1.0   300000.000\n",
       "17399         1.0   300000.000\n",
       "17482         1.0   300000.000\n",
       "17517         1.0   300000.000\n",
       "17623         1.0   300000.000\n",
       "17695         1.0    63407.767\n",
       "17850         1.0   300000.000\n",
       "17886         1.0   300000.000\n",
       "17909         1.0   300000.000\n",
       "17969         1.0   300000.000\n",
       "18006         1.0   300000.000\n",
       "18012         1.0   300000.000\n",
       "18097         1.0   300000.000\n",
       "18103         1.0   300000.000\n",
       "18119         1.0   300000.000\n",
       "18255         1.0   300000.000\n",
       "18264         1.0   300000.000\n",
       "18307         1.0   300000.000\n",
       "18483         1.0   300000.000"
      ]
     },
     "execution_count": 17,
     "metadata": {},
     "output_type": "execute_result"
    }
   ],
   "source": [
    "rd = []\n",
    "for i, j in road_supply:\n",
    "    if rd_output_df.hub_status[i, j] == 1 and rd_output_df.road_supply[i, j] > 0:\n",
    "        output = {\n",
    "            'hubs': j,\n",
    "            'road_supply': rd_output_df.road_supply[i, j],\n",
    "            'hub_status': rd_output_df.hub_status[i, j] \n",
    "        }\n",
    "        rd.append(output)\n",
    "rd = pd.DataFrame.from_records(rd).sort_values('hubs')\n",
    "rd.set_index('hubs', inplace=True)\n",
    "rd"
   ]
  },
  {
   "cell_type": "code",
   "execution_count": 18,
   "metadata": {},
   "outputs": [],
   "source": [
    "# Hub Supply Document Exportation\n",
    "rd.to_excel('Optimal Hubs.xlsx')"
   ]
  },
  {
   "cell_type": "code",
   "execution_count": 19,
   "metadata": {},
   "outputs": [],
   "source": [
    "# Plant Supply Table Formulation\n",
    "rl_output = []\n",
    "for j, k in rail_supply: \n",
    "    var_output = {\n",
    "        'hubs': j,\n",
    "        'plant': k,\n",
    "        'rail_supply': rail_supply[(j, k)].varValue,\n",
    "        'plt_status': plt_status[k].varValue\n",
    "    }\n",
    "    rl_output.append(var_output)\n",
    "rl_output_df = pd.DataFrame.from_records(rl_output).sort_values(['hubs', 'plant'])\n",
    "rl_output_df.set_index(['hubs', 'plant'], inplace=True)"
   ]
  },
  {
   "cell_type": "markdown",
   "metadata": {},
   "source": [
    "## Plant Supply Ouput"
   ]
  },
  {
   "cell_type": "code",
   "execution_count": 20,
   "metadata": {},
   "outputs": [
    {
     "data": {
      "text/html": [
       "<div>\n",
       "<style scoped>\n",
       "    .dataframe tbody tr th:only-of-type {\n",
       "        vertical-align: middle;\n",
       "    }\n",
       "\n",
       "    .dataframe tbody tr th {\n",
       "        vertical-align: top;\n",
       "    }\n",
       "\n",
       "    .dataframe thead th {\n",
       "        text-align: right;\n",
       "    }\n",
       "</style>\n",
       "<table border=\"1\" class=\"dataframe\">\n",
       "  <thead>\n",
       "    <tr style=\"text-align: right;\">\n",
       "      <th></th>\n",
       "      <th>plt_status</th>\n",
       "      <th>rail_supply</th>\n",
       "    </tr>\n",
       "    <tr>\n",
       "      <th>plants</th>\n",
       "      <th></th>\n",
       "      <th></th>\n",
       "    </tr>\n",
       "  </thead>\n",
       "  <tbody>\n",
       "    <tr>\n",
       "      <th>543</th>\n",
       "      <td>1.0</td>\n",
       "      <td>655447.00</td>\n",
       "    </tr>\n",
       "    <tr>\n",
       "      <th>9088</th>\n",
       "      <td>1.0</td>\n",
       "      <td>655447.00</td>\n",
       "    </tr>\n",
       "    <tr>\n",
       "      <th>9091</th>\n",
       "      <td>1.0</td>\n",
       "      <td>655447.00</td>\n",
       "    </tr>\n",
       "    <tr>\n",
       "      <th>9104</th>\n",
       "      <td>1.0</td>\n",
       "      <td>655447.00</td>\n",
       "    </tr>\n",
       "    <tr>\n",
       "      <th>9142</th>\n",
       "      <td>1.0</td>\n",
       "      <td>655447.00</td>\n",
       "    </tr>\n",
       "    <tr>\n",
       "      <th>9167</th>\n",
       "      <td>1.0</td>\n",
       "      <td>464384.73</td>\n",
       "    </tr>\n",
       "    <tr>\n",
       "      <th>9188</th>\n",
       "      <td>1.0</td>\n",
       "      <td>655447.00</td>\n",
       "    </tr>\n",
       "    <tr>\n",
       "      <th>9203</th>\n",
       "      <td>1.0</td>\n",
       "      <td>655447.00</td>\n",
       "    </tr>\n",
       "    <tr>\n",
       "      <th>10060</th>\n",
       "      <td>1.0</td>\n",
       "      <td>655447.00</td>\n",
       "    </tr>\n",
       "    <tr>\n",
       "      <th>10061</th>\n",
       "      <td>1.0</td>\n",
       "      <td>655447.00</td>\n",
       "    </tr>\n",
       "  </tbody>\n",
       "</table>\n",
       "</div>"
      ],
      "text/plain": [
       "        plt_status  rail_supply\n",
       "plants                         \n",
       "543            1.0    655447.00\n",
       "9088           1.0    655447.00\n",
       "9091           1.0    655447.00\n",
       "9104           1.0    655447.00\n",
       "9142           1.0    655447.00\n",
       "9167           1.0    464384.73\n",
       "9188           1.0    655447.00\n",
       "9203           1.0    655447.00\n",
       "10060          1.0    655447.00\n",
       "10061          1.0    655447.00"
      ]
     },
     "execution_count": 20,
     "metadata": {},
     "output_type": "execute_result"
    }
   ],
   "source": [
    "rl = []\n",
    "for j, k in rail_supply:\n",
    "    if rl_output_df.plt_status[j, k] == 1 and rl_output_df.rail_supply[j, k] > 0:\n",
    "        output = {\n",
    "            'plants': k,\n",
    "            'rail_supply': rl_output_df.rail_supply[j, k],\n",
    "            'plt_status': rl_output_df.plt_status[j, k] \n",
    "        }\n",
    "        rl.append(output)\n",
    "rl = pd.DataFrame.from_records(rl).sort_values('plants')\n",
    "rl.set_index('plants', inplace=True)\n",
    "rl"
   ]
  },
  {
   "cell_type": "code",
   "execution_count": 21,
   "metadata": {},
   "outputs": [],
   "source": [
    "# Plant Supply Document Exportation\n",
    "rl.to_excel('Optimal Plants.xlsx')"
   ]
  },
  {
   "cell_type": "code",
   "execution_count": null,
   "metadata": {
    "collapsed": true
   },
   "outputs": [],
   "source": []
  }
 ],
 "metadata": {
  "kernelspec": {
   "display_name": "Python 3",
   "language": "python",
   "name": "python3"
  },
  "language_info": {
   "codemirror_mode": {
    "name": "ipython",
    "version": 3
   },
   "file_extension": ".py",
   "mimetype": "text/x-python",
   "name": "python",
   "nbconvert_exporter": "python",
   "pygments_lexer": "ipython3",
   "version": "3.6.3"
  }
 },
 "nbformat": 4,
 "nbformat_minor": 2
}
