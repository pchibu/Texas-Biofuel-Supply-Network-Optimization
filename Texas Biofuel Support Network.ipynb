{
 "cells": [
  {
   "cell_type": "markdown",
   "metadata": {},
   "source": [
    "## SUPPLY CHAIN NETWORK DESIGN TO SUPPORT BIOFUEL PRODUCTION\n",
    "<p> A company has decided to produce bioethanol in the state of Texas. The company needs to design a supply chain consisting of suppliers, hubs and biorefineries for the conversion of raw material (i.e., biomass) into biofuel. </p>\n",
    "<p> The potential locations to open hubs correspond to train stations because the transportation mode utilized to move the raw material from the hubs to the biorefineries is train, while truck is the transportation mode utilized to move the biomass from the counties to the hubs.</p>\n",
    "<p> This project is to minimize the investment and transportation costs by finding the optimal number of hubs and biorefineries that the company needs to install as well as the flows between suppliers-hubs and hubs-biorefineries.</p>\n",
    "\n",
    "\n",
    "<p> PuLP is the Python library installed, imported and used in this project for linear optimization </p>"
   ]
  },
  {
   "cell_type": "code",
   "execution_count": 1,
   "metadata": {
    "collapsed": true
   },
   "outputs": [],
   "source": [
    "# Import the necessary libraries\n",
    "import numpy as np\n",
    "import math\n",
    "import matplotlib.pyplot as plt\n",
    "import pandas as pd\n",
    "import pulp\n",
    "from pulp import*"
   ]
  },
  {
   "cell_type": "markdown",
   "metadata": {},
   "source": [
    "## Data Importation and Cleaning"
   ]
  },
  {
   "cell_type": "code",
   "execution_count": 2,
   "metadata": {},
   "outputs": [],
   "source": [
    "suppliers = pd.read_csv('TX_suppliers.csv')\n",
    "suppliers['supply'] = round(suppliers.supply, 2)\n",
    "suppliers = suppliers.drop(['index'], axis =1)\n",
    "supplies = suppliers.supply\n",
    "total_supply = sum(suppliers.supply)\n",
    "\n",
    "hubs = pd.read_csv('TX_hubs.csv')\n",
    "hubs = hubs.drop(['index'], axis =1)\n",
    "Hub_Capacity = hubs.capacity\n",
    "Hub_Invest = hubs.invest.iloc[0]\n",
    "Hubs = hubs['hub']\n",
    "\n",
    "road = pd.read_csv('TX_roads.csv')\n",
    "road['cost'] = round(road.cost, 2)\n",
    "road = road.drop(['index'], axis =1)\n",
    "\n",
    "plants = pd.read_csv('TX_plants.csv')\n",
    "Yield = plants['yield'].iloc[0]\n",
    "plants['plt_capacity'] = plants.capacity/plants['yield']\n",
    "plants = plants.drop(['index'], axis =1)\n",
    "Plt_Invest = plants.invest.iloc[0]\n",
    "\n",
    "rail = pd.read_csv('TX_railroads.csv')\n",
    "rail['cost'] = round(rail.cost, 2)\n",
    "rail['plt_invest'] = len(rail)*[plants.invest.iloc[0]]\n",
    "rail = rail.drop(['index'], axis =1)\n",
    "loading = rail.loading\n",
    "\n",
    "network = pd.read_csv('TX_network.csv')\n",
    "Demand = network.demand.iloc[0]\n",
    "demand = Demand/Yield\n",
    "\n",
    "unmet_Demand = demand - total_supply"
   ]
  },
  {
   "cell_type": "markdown",
   "metadata": {},
   "source": [
    "## Introducing 3rd Party Supplier\n",
    "<p> Since the sum of the county supplies can not meet the demand, a 3rd party supplier is introduced. </p>"
   ]
  },
  {
   "cell_type": "code",
   "execution_count": 3,
   "metadata": {},
   "outputs": [],
   "source": [
    "suppliers.loc[254] = ['3_party', unmet_Demand]\n",
    "suppliers['supply'] = round(suppliers.supply, 2)"
   ]
  },
  {
   "cell_type": "code",
   "execution_count": 4,
   "metadata": {},
   "outputs": [],
   "source": [
    "# Adding 3rd Party Supplier to Hubs list\n",
    "n = 1303\n",
    "County = ['3_party'] * n\n",
    "Distance = [0] * n\n",
    "Cost = [0] * n\n",
    "Third = {'county': County, 'distance':Distance, 'cost':Cost}\n",
    "Third = pd.DataFrame(Third)\n",
    "Third['hubs'] = Hubs"
   ]
  },
  {
   "cell_type": "code",
   "execution_count": 5,
   "metadata": {},
   "outputs": [],
   "source": [
    "road = road.append(Third, ignore_index = True) "
   ]
  },
  {
   "cell_type": "code",
   "execution_count": 6,
   "metadata": {},
   "outputs": [],
   "source": [
    "# Setting the indices\n",
    "hubs = hubs.set_index(['hub'])\n",
    "suppliers = suppliers.set_index(['county'])\n",
    "plants = plants.set_index(['plant'])\n",
    "road = road.set_index(['county', 'hubs'])\n",
    "rail = rail.set_index(['hubs','plant'])"
   ]
  },
  {
   "cell_type": "markdown",
   "metadata": {},
   "source": [
    "## Data Exploration and Optimization"
   ]
  },
  {
   "cell_type": "code",
   "execution_count": 7,
   "metadata": {
    "scrolled": true
   },
   "outputs": [],
   "source": [
    "# Decision Variables Defintion\n",
    "road_supply = pulp.LpVariable.dicts('road_supply', [(i, j) for i in suppliers.index\n",
    "                                                    for j in hubs.index], lowBound=0, cat='Continuous')\n",
    "\n",
    "hub_status = pulp.LpVariable.dicts(\"hub_status\", [j for j in hubs.index], cat='Binary')\n",
    "\n",
    "rail_supply = pulp.LpVariable.dicts(\"rail_supply\",[(j, k) for j in hubs.index\n",
    "                                                   for k in plants.index], lowBound=0, cat='Continuous')\n",
    "\n",
    "plt_status = pulp.LpVariable.dicts(\"plt_status\",[k for k in plants.index], cat='Binary')"
   ]
  },
  {
   "cell_type": "markdown",
   "metadata": {},
   "source": [
    "## Model 1"
   ]
  },
  {
   "cell_type": "code",
   "execution_count": 8,
   "metadata": {
    "collapsed": true
   },
   "outputs": [],
   "source": [
    "# Model 1 Initialization\n",
    "model_1 = pulp.LpProblem(\"cost minimising supply-hub network\", pulp.LpMinimize)"
   ]
  },
  {
   "cell_type": "code",
   "execution_count": 9,
   "metadata": {},
   "outputs": [],
   "source": [
    "# Objective Function 1\n",
    "model_1 += pulp.lpSum(\n",
    "    [[road_supply[i, j] * road.loc[(i, j), 'cost']]  + \n",
    "     [hub_status[j] * hubs.loc[j, 'invest']] for i in suppliers.index for j in hubs.index])"
   ]
  },
  {
   "cell_type": "code",
   "execution_count": 10,
   "metadata": {},
   "outputs": [],
   "source": [
    "# Demand Constraint\n",
    "model_1 += pulp.lpSum([road_supply[i, j] for i in suppliers.index for j in hubs.index]) == demand"
   ]
  },
  {
   "cell_type": "code",
   "execution_count": 11,
   "metadata": {
    "collapsed": true
   },
   "outputs": [],
   "source": [
    "# Hub Capacity Constraint\n",
    "for j in hubs.index:\n",
    "    model_1 += pulp.lpSum([road_supply[i, j] for i in suppliers.index]) <= hubs.loc[j, 'capacity'] * hub_status[j]"
   ]
  },
  {
   "cell_type": "code",
   "execution_count": 12,
   "metadata": {},
   "outputs": [
    {
     "data": {
      "text/plain": [
       "'Optimal'"
      ]
     },
     "execution_count": 12,
     "metadata": {},
     "output_type": "execute_result"
    }
   ],
   "source": [
    "# Model 1 Status\n",
    "model_1.solve()\n",
    "pulp.LpStatus[model_1.status]"
   ]
  },
  {
   "cell_type": "code",
   "execution_count": 13,
   "metadata": {},
   "outputs": [
    {
     "name": "stdout",
     "output_type": "stream",
     "text": [
      "The optimal supply-hub cost is $19,501,588,590.00\n"
     ]
    }
   ],
   "source": [
    "# Model 1 Result\n",
    "cost_1 = pulp.value(model_1.objective)\n",
    "\n",
    "amount_1 = \"${:,.2f}\".format(cost_1)\n",
    "\n",
    "print('The optimal supply-hub cost is ' + amount_1)"
   ]
  },
  {
   "cell_type": "code",
   "execution_count": 14,
   "metadata": {},
   "outputs": [],
   "source": [
    "# Model 1 Table Formulation\n",
    "rd_output = []\n",
    "for i, j in road_supply:\n",
    "    var_output = {\n",
    "        'county': i,\n",
    "        'hubs': j,\n",
    "        'road_supply': road_supply[(i, j)].varValue,\n",
    "        'hub_status': hub_status[j].varValue\n",
    "    }\n",
    "    rd_output.append(var_output)\n",
    "rd_output_df = pd.DataFrame.from_records(rd_output).sort_values(['county', 'hubs'])\n",
    "rd_output_df.set_index(['county', 'hubs'], inplace=True)"
   ]
  },
  {
   "cell_type": "markdown",
   "metadata": {},
   "source": [
    "## Model 1 Output"
   ]
  },
  {
   "cell_type": "code",
   "execution_count": 15,
   "metadata": {},
   "outputs": [
    {
     "data": {
      "text/html": [
       "<div>\n",
       "<style scoped>\n",
       "    .dataframe tbody tr th:only-of-type {\n",
       "        vertical-align: middle;\n",
       "    }\n",
       "\n",
       "    .dataframe tbody tr th {\n",
       "        vertical-align: top;\n",
       "    }\n",
       "\n",
       "    .dataframe thead th {\n",
       "        text-align: right;\n",
       "    }\n",
       "</style>\n",
       "<table border=\"1\" class=\"dataframe\">\n",
       "  <thead>\n",
       "    <tr style=\"text-align: right;\">\n",
       "      <th></th>\n",
       "      <th>hub_status</th>\n",
       "      <th>road_supply</th>\n",
       "    </tr>\n",
       "    <tr>\n",
       "      <th>hubs</th>\n",
       "      <th></th>\n",
       "      <th></th>\n",
       "    </tr>\n",
       "  </thead>\n",
       "  <tbody>\n",
       "    <tr>\n",
       "      <th>131</th>\n",
       "      <td>1.0</td>\n",
       "      <td>300000.000</td>\n",
       "    </tr>\n",
       "    <tr>\n",
       "      <th>17164</th>\n",
       "      <td>1.0</td>\n",
       "      <td>300000.000</td>\n",
       "    </tr>\n",
       "    <tr>\n",
       "      <th>17165</th>\n",
       "      <td>1.0</td>\n",
       "      <td>300000.000</td>\n",
       "    </tr>\n",
       "    <tr>\n",
       "      <th>17166</th>\n",
       "      <td>1.0</td>\n",
       "      <td>300000.000</td>\n",
       "    </tr>\n",
       "    <tr>\n",
       "      <th>17167</th>\n",
       "      <td>1.0</td>\n",
       "      <td>300000.000</td>\n",
       "    </tr>\n",
       "    <tr>\n",
       "      <th>17168</th>\n",
       "      <td>1.0</td>\n",
       "      <td>300000.000</td>\n",
       "    </tr>\n",
       "    <tr>\n",
       "      <th>17169</th>\n",
       "      <td>1.0</td>\n",
       "      <td>300000.000</td>\n",
       "    </tr>\n",
       "    <tr>\n",
       "      <th>17170</th>\n",
       "      <td>1.0</td>\n",
       "      <td>300000.000</td>\n",
       "    </tr>\n",
       "    <tr>\n",
       "      <th>17171</th>\n",
       "      <td>1.0</td>\n",
       "      <td>300000.000</td>\n",
       "    </tr>\n",
       "    <tr>\n",
       "      <th>17172</th>\n",
       "      <td>1.0</td>\n",
       "      <td>300000.000</td>\n",
       "    </tr>\n",
       "    <tr>\n",
       "      <th>17173</th>\n",
       "      <td>1.0</td>\n",
       "      <td>300000.000</td>\n",
       "    </tr>\n",
       "    <tr>\n",
       "      <th>17174</th>\n",
       "      <td>1.0</td>\n",
       "      <td>300000.000</td>\n",
       "    </tr>\n",
       "    <tr>\n",
       "      <th>17175</th>\n",
       "      <td>1.0</td>\n",
       "      <td>300000.000</td>\n",
       "    </tr>\n",
       "    <tr>\n",
       "      <th>17176</th>\n",
       "      <td>1.0</td>\n",
       "      <td>300000.000</td>\n",
       "    </tr>\n",
       "    <tr>\n",
       "      <th>17177</th>\n",
       "      <td>1.0</td>\n",
       "      <td>300000.000</td>\n",
       "    </tr>\n",
       "    <tr>\n",
       "      <th>17178</th>\n",
       "      <td>1.0</td>\n",
       "      <td>300000.000</td>\n",
       "    </tr>\n",
       "    <tr>\n",
       "      <th>17179</th>\n",
       "      <td>1.0</td>\n",
       "      <td>300000.000</td>\n",
       "    </tr>\n",
       "    <tr>\n",
       "      <th>17181</th>\n",
       "      <td>1.0</td>\n",
       "      <td>300000.000</td>\n",
       "    </tr>\n",
       "    <tr>\n",
       "      <th>17182</th>\n",
       "      <td>1.0</td>\n",
       "      <td>300000.000</td>\n",
       "    </tr>\n",
       "    <tr>\n",
       "      <th>17183</th>\n",
       "      <td>1.0</td>\n",
       "      <td>300000.000</td>\n",
       "    </tr>\n",
       "    <tr>\n",
       "      <th>17184</th>\n",
       "      <td>1.0</td>\n",
       "      <td>300000.000</td>\n",
       "    </tr>\n",
       "    <tr>\n",
       "      <th>17627</th>\n",
       "      <td>1.0</td>\n",
       "      <td>63407.767</td>\n",
       "    </tr>\n",
       "  </tbody>\n",
       "</table>\n",
       "</div>"
      ],
      "text/plain": [
       "       hub_status  road_supply\n",
       "hubs                          \n",
       "131           1.0   300000.000\n",
       "17164         1.0   300000.000\n",
       "17165         1.0   300000.000\n",
       "17166         1.0   300000.000\n",
       "17167         1.0   300000.000\n",
       "17168         1.0   300000.000\n",
       "17169         1.0   300000.000\n",
       "17170         1.0   300000.000\n",
       "17171         1.0   300000.000\n",
       "17172         1.0   300000.000\n",
       "17173         1.0   300000.000\n",
       "17174         1.0   300000.000\n",
       "17175         1.0   300000.000\n",
       "17176         1.0   300000.000\n",
       "17177         1.0   300000.000\n",
       "17178         1.0   300000.000\n",
       "17179         1.0   300000.000\n",
       "17181         1.0   300000.000\n",
       "17182         1.0   300000.000\n",
       "17183         1.0   300000.000\n",
       "17184         1.0   300000.000\n",
       "17627         1.0    63407.767"
      ]
     },
     "execution_count": 15,
     "metadata": {},
     "output_type": "execute_result"
    }
   ],
   "source": [
    "rd = []\n",
    "for i, j in road_supply:\n",
    "    if rd_output_df.hub_status[i, j] == 1 and rd_output_df.road_supply[i, j] > 0:\n",
    "        output = {\n",
    "            'hubs': j,\n",
    "            'road_supply': rd_output_df.road_supply[i, j],\n",
    "            'hub_status': rd_output_df.hub_status[i, j] \n",
    "        }\n",
    "        rd.append(output)\n",
    "rd = pd.DataFrame.from_records(rd).sort_values('hubs')\n",
    "rd.set_index('hubs', inplace=True)\n",
    "rd"
   ]
  },
  {
   "cell_type": "code",
   "execution_count": 16,
   "metadata": {},
   "outputs": [],
   "source": [
    "# Model 1 Document Exportation\n",
    "rd.to_excel('Optimal Hubs.xlsx')"
   ]
  },
  {
   "cell_type": "markdown",
   "metadata": {},
   "source": [
    "## Model 2"
   ]
  },
  {
   "cell_type": "code",
   "execution_count": 17,
   "metadata": {
    "collapsed": true
   },
   "outputs": [],
   "source": [
    "# Model 2 Initialization\n",
    "model_2 = pulp.LpProblem(\"cost minimising hub-plant network\", pulp.LpMinimize)"
   ]
  },
  {
   "cell_type": "code",
   "execution_count": 18,
   "metadata": {
    "collapsed": true
   },
   "outputs": [],
   "source": [
    "# Model 2 Objective Function\n",
    "model_2 += pulp.lpSum(\n",
    "    [[rail_supply[j, k] * rail.loc[(j, k), 'cost']] + \n",
    "     [plt_status[k] * plants.loc[k, 'invest']] for j in rd.index for k in plants.index])"
   ]
  },
  {
   "cell_type": "code",
   "execution_count": 19,
   "metadata": {
    "collapsed": true
   },
   "outputs": [],
   "source": [
    "# Model 2 Demand Constraint\n",
    "model_2 += pulp.lpSum([rail_supply[j, k] for j in rd.index for k in plants.index]) == demand"
   ]
  },
  {
   "cell_type": "code",
   "execution_count": 20,
   "metadata": {
    "collapsed": true
   },
   "outputs": [],
   "source": [
    "# Plant Capacity Constraint\n",
    "for k in plants.index:\n",
    "    model_2 += pulp.lpSum([rail_supply[j, k] for j in rd.index]) <= plants.loc[k, 'plt_capacity'] * plt_status[k]"
   ]
  },
  {
   "cell_type": "code",
   "execution_count": 21,
   "metadata": {},
   "outputs": [
    {
     "data": {
      "text/plain": [
       "'Optimal'"
      ]
     },
     "execution_count": 21,
     "metadata": {},
     "output_type": "execute_result"
    }
   ],
   "source": [
    "# Model 2 Status\n",
    "model_2.solve()\n",
    "pulp.LpStatus[model_2.status]"
   ]
  },
  {
   "cell_type": "code",
   "execution_count": 22,
   "metadata": {},
   "outputs": [
    {
     "name": "stdout",
     "output_type": "stream",
     "text": [
      "The optimal hub-plant cost is $28,810,495,340.00\n"
     ]
    }
   ],
   "source": [
    "# Model 2 Result\n",
    "cost_2 = pulp.value(model_2.objective)\n",
    "\n",
    "amount_2 = \"${:,.2f}\".format(cost_2)\n",
    "\n",
    "print('The optimal hub-plant cost is ' + amount_2)"
   ]
  },
  {
   "cell_type": "code",
   "execution_count": 23,
   "metadata": {},
   "outputs": [],
   "source": [
    "# Model 2 Table Formulation\n",
    "rl_output = []\n",
    "for j, k in rail_supply: \n",
    "    var_output = {\n",
    "        'hubs': j,\n",
    "        'plant': k,\n",
    "        'rail_supply': rail_supply[(j, k)].varValue,\n",
    "        'plt_status': plt_status[k].varValue\n",
    "    }\n",
    "    rl_output.append(var_output)\n",
    "rl_output_df = pd.DataFrame.from_records(rl_output).sort_values(['hubs', 'plant'])\n",
    "rl_output_df.set_index(['hubs', 'plant'], inplace=True)"
   ]
  },
  {
   "cell_type": "markdown",
   "metadata": {},
   "source": [
    "## Model 2 Ouput"
   ]
  },
  {
   "cell_type": "code",
   "execution_count": 24,
   "metadata": {},
   "outputs": [
    {
     "data": {
      "text/html": [
       "<div>\n",
       "<style scoped>\n",
       "    .dataframe tbody tr th:only-of-type {\n",
       "        vertical-align: middle;\n",
       "    }\n",
       "\n",
       "    .dataframe tbody tr th {\n",
       "        vertical-align: top;\n",
       "    }\n",
       "\n",
       "    .dataframe thead th {\n",
       "        text-align: right;\n",
       "    }\n",
       "</style>\n",
       "<table border=\"1\" class=\"dataframe\">\n",
       "  <thead>\n",
       "    <tr style=\"text-align: right;\">\n",
       "      <th></th>\n",
       "      <th>plt_status</th>\n",
       "      <th>rail_supply</th>\n",
       "    </tr>\n",
       "    <tr>\n",
       "      <th>plants</th>\n",
       "      <th></th>\n",
       "      <th></th>\n",
       "    </tr>\n",
       "  </thead>\n",
       "  <tbody>\n",
       "    <tr>\n",
       "      <th>9083</th>\n",
       "      <td>1.0</td>\n",
       "      <td>655447.00</td>\n",
       "    </tr>\n",
       "    <tr>\n",
       "      <th>9100</th>\n",
       "      <td>1.0</td>\n",
       "      <td>655447.00</td>\n",
       "    </tr>\n",
       "    <tr>\n",
       "      <th>9113</th>\n",
       "      <td>1.0</td>\n",
       "      <td>464384.73</td>\n",
       "    </tr>\n",
       "    <tr>\n",
       "      <th>9114</th>\n",
       "      <td>1.0</td>\n",
       "      <td>655447.00</td>\n",
       "    </tr>\n",
       "    <tr>\n",
       "      <th>9115</th>\n",
       "      <td>1.0</td>\n",
       "      <td>655447.00</td>\n",
       "    </tr>\n",
       "    <tr>\n",
       "      <th>9117</th>\n",
       "      <td>1.0</td>\n",
       "      <td>655447.00</td>\n",
       "    </tr>\n",
       "    <tr>\n",
       "      <th>9119</th>\n",
       "      <td>1.0</td>\n",
       "      <td>655447.00</td>\n",
       "    </tr>\n",
       "    <tr>\n",
       "      <th>9136</th>\n",
       "      <td>1.0</td>\n",
       "      <td>655447.00</td>\n",
       "    </tr>\n",
       "    <tr>\n",
       "      <th>9185</th>\n",
       "      <td>1.0</td>\n",
       "      <td>655447.00</td>\n",
       "    </tr>\n",
       "    <tr>\n",
       "      <th>10058</th>\n",
       "      <td>1.0</td>\n",
       "      <td>655447.00</td>\n",
       "    </tr>\n",
       "  </tbody>\n",
       "</table>\n",
       "</div>"
      ],
      "text/plain": [
       "        plt_status  rail_supply\n",
       "plants                         \n",
       "9083           1.0    655447.00\n",
       "9100           1.0    655447.00\n",
       "9113           1.0    464384.73\n",
       "9114           1.0    655447.00\n",
       "9115           1.0    655447.00\n",
       "9117           1.0    655447.00\n",
       "9119           1.0    655447.00\n",
       "9136           1.0    655447.00\n",
       "9185           1.0    655447.00\n",
       "10058          1.0    655447.00"
      ]
     },
     "execution_count": 24,
     "metadata": {},
     "output_type": "execute_result"
    }
   ],
   "source": [
    "rl = []\n",
    "for j, k in rail_supply:\n",
    "    if rl_output_df.plt_status[j, k] == 1 and rl_output_df.rail_supply[j, k] > 0:\n",
    "        output = {\n",
    "            'plants': k,\n",
    "            'rail_supply': rl_output_df.rail_supply[j, k],\n",
    "            'plt_status': rl_output_df.plt_status[j, k] \n",
    "        }\n",
    "        rl.append(output)\n",
    "rl = pd.DataFrame.from_records(rl).sort_values('plants')\n",
    "rl.set_index('plants', inplace=True)\n",
    "rl"
   ]
  },
  {
   "cell_type": "code",
   "execution_count": 28,
   "metadata": {},
   "outputs": [
    {
     "ename": "PermissionError",
     "evalue": "[Errno 13] Permission denied: 'Optimal Plants.xlsx'",
     "output_type": "error",
     "traceback": [
      "\u001b[1;31m---------------------------------------------------------------------------\u001b[0m",
      "\u001b[1;31mPermissionError\u001b[0m                           Traceback (most recent call last)",
      "\u001b[1;32m<ipython-input-28-ba8646b8dc95>\u001b[0m in \u001b[0;36m<module>\u001b[1;34m()\u001b[0m\n\u001b[0;32m      1\u001b[0m \u001b[1;31m# Model 2 Document Exportation\u001b[0m\u001b[1;33m\u001b[0m\u001b[1;33m\u001b[0m\u001b[0m\n\u001b[1;32m----> 2\u001b[1;33m \u001b[0mrl\u001b[0m\u001b[1;33m.\u001b[0m\u001b[0mto_excel\u001b[0m\u001b[1;33m(\u001b[0m\u001b[1;34m'Optimal Plants.xlsx'\u001b[0m\u001b[1;33m)\u001b[0m\u001b[1;33m\u001b[0m\u001b[0m\n\u001b[0m",
      "\u001b[1;32m~\\Anaconda3\\lib\\site-packages\\pandas\\core\\frame.py\u001b[0m in \u001b[0;36mto_excel\u001b[1;34m(self, excel_writer, sheet_name, na_rep, float_format, columns, header, index, index_label, startrow, startcol, engine, merge_cells, encoding, inf_rep, verbose, freeze_panes)\u001b[0m\n\u001b[0;32m   1543\u001b[0m         formatter.write(excel_writer, sheet_name=sheet_name, startrow=startrow,\n\u001b[0;32m   1544\u001b[0m                         \u001b[0mstartcol\u001b[0m\u001b[1;33m=\u001b[0m\u001b[0mstartcol\u001b[0m\u001b[1;33m,\u001b[0m \u001b[0mfreeze_panes\u001b[0m\u001b[1;33m=\u001b[0m\u001b[0mfreeze_panes\u001b[0m\u001b[1;33m,\u001b[0m\u001b[1;33m\u001b[0m\u001b[0m\n\u001b[1;32m-> 1545\u001b[1;33m                         engine=engine)\n\u001b[0m\u001b[0;32m   1546\u001b[0m \u001b[1;33m\u001b[0m\u001b[0m\n\u001b[0;32m   1547\u001b[0m     def to_stata(self, fname, convert_dates=None, write_index=True,\n",
      "\u001b[1;32m~\\Anaconda3\\lib\\site-packages\\pandas\\io\\formats\\excel.py\u001b[0m in \u001b[0;36mwrite\u001b[1;34m(self, writer, sheet_name, startrow, startcol, freeze_panes, engine)\u001b[0m\n\u001b[0;32m    649\u001b[0m                            freeze_panes=freeze_panes)\n\u001b[0;32m    650\u001b[0m         \u001b[1;32mif\u001b[0m \u001b[0mneed_save\u001b[0m\u001b[1;33m:\u001b[0m\u001b[1;33m\u001b[0m\u001b[0m\n\u001b[1;32m--> 651\u001b[1;33m             \u001b[0mwriter\u001b[0m\u001b[1;33m.\u001b[0m\u001b[0msave\u001b[0m\u001b[1;33m(\u001b[0m\u001b[1;33m)\u001b[0m\u001b[1;33m\u001b[0m\u001b[0m\n\u001b[0m",
      "\u001b[1;32m~\\Anaconda3\\lib\\site-packages\\pandas\\io\\excel.py\u001b[0m in \u001b[0;36msave\u001b[1;34m(self)\u001b[0m\n\u001b[0;32m   1600\u001b[0m         \"\"\"\n\u001b[0;32m   1601\u001b[0m \u001b[1;33m\u001b[0m\u001b[0m\n\u001b[1;32m-> 1602\u001b[1;33m         \u001b[1;32mreturn\u001b[0m \u001b[0mself\u001b[0m\u001b[1;33m.\u001b[0m\u001b[0mbook\u001b[0m\u001b[1;33m.\u001b[0m\u001b[0mclose\u001b[0m\u001b[1;33m(\u001b[0m\u001b[1;33m)\u001b[0m\u001b[1;33m\u001b[0m\u001b[0m\n\u001b[0m\u001b[0;32m   1603\u001b[0m \u001b[1;33m\u001b[0m\u001b[0m\n\u001b[0;32m   1604\u001b[0m     def write_cells(self, cells, sheet_name=None, startrow=0, startcol=0,\n",
      "\u001b[1;32m~\\Anaconda3\\lib\\site-packages\\xlsxwriter\\workbook.py\u001b[0m in \u001b[0;36mclose\u001b[1;34m(self)\u001b[0m\n\u001b[0;32m    308\u001b[0m         \u001b[1;32mif\u001b[0m \u001b[1;32mnot\u001b[0m \u001b[0mself\u001b[0m\u001b[1;33m.\u001b[0m\u001b[0mfileclosed\u001b[0m\u001b[1;33m:\u001b[0m\u001b[1;33m\u001b[0m\u001b[0m\n\u001b[0;32m    309\u001b[0m             \u001b[0mself\u001b[0m\u001b[1;33m.\u001b[0m\u001b[0mfileclosed\u001b[0m \u001b[1;33m=\u001b[0m \u001b[1;36m1\u001b[0m\u001b[1;33m\u001b[0m\u001b[0m\n\u001b[1;32m--> 310\u001b[1;33m             \u001b[0mself\u001b[0m\u001b[1;33m.\u001b[0m\u001b[0m_store_workbook\u001b[0m\u001b[1;33m(\u001b[0m\u001b[1;33m)\u001b[0m\u001b[1;33m\u001b[0m\u001b[0m\n\u001b[0m\u001b[0;32m    311\u001b[0m \u001b[1;33m\u001b[0m\u001b[0m\n\u001b[0;32m    312\u001b[0m     \u001b[1;32mdef\u001b[0m \u001b[0mset_size\u001b[0m\u001b[1;33m(\u001b[0m\u001b[0mself\u001b[0m\u001b[1;33m,\u001b[0m \u001b[0mwidth\u001b[0m\u001b[1;33m,\u001b[0m \u001b[0mheight\u001b[0m\u001b[1;33m)\u001b[0m\u001b[1;33m:\u001b[0m\u001b[1;33m\u001b[0m\u001b[0m\n",
      "\u001b[1;32m~\\Anaconda3\\lib\\site-packages\\xlsxwriter\\workbook.py\u001b[0m in \u001b[0;36m_store_workbook\u001b[1;34m(self)\u001b[0m\n\u001b[0;32m    622\u001b[0m \u001b[1;33m\u001b[0m\u001b[0m\n\u001b[0;32m    623\u001b[0m         xlsx_file = ZipFile(self.filename, \"w\", compression=ZIP_DEFLATED,\n\u001b[1;32m--> 624\u001b[1;33m                             allowZip64=self.allow_zip64)\n\u001b[0m\u001b[0;32m    625\u001b[0m \u001b[1;33m\u001b[0m\u001b[0m\n\u001b[0;32m    626\u001b[0m         \u001b[1;31m# Add XML sub-files to the Zip file with their Excel filename.\u001b[0m\u001b[1;33m\u001b[0m\u001b[1;33m\u001b[0m\u001b[0m\n",
      "\u001b[1;32m~\\Anaconda3\\lib\\zipfile.py\u001b[0m in \u001b[0;36m__init__\u001b[1;34m(self, file, mode, compression, allowZip64)\u001b[0m\n\u001b[0;32m   1088\u001b[0m             \u001b[1;32mwhile\u001b[0m \u001b[1;32mTrue\u001b[0m\u001b[1;33m:\u001b[0m\u001b[1;33m\u001b[0m\u001b[0m\n\u001b[0;32m   1089\u001b[0m                 \u001b[1;32mtry\u001b[0m\u001b[1;33m:\u001b[0m\u001b[1;33m\u001b[0m\u001b[0m\n\u001b[1;32m-> 1090\u001b[1;33m                     \u001b[0mself\u001b[0m\u001b[1;33m.\u001b[0m\u001b[0mfp\u001b[0m \u001b[1;33m=\u001b[0m \u001b[0mio\u001b[0m\u001b[1;33m.\u001b[0m\u001b[0mopen\u001b[0m\u001b[1;33m(\u001b[0m\u001b[0mfile\u001b[0m\u001b[1;33m,\u001b[0m \u001b[0mfilemode\u001b[0m\u001b[1;33m)\u001b[0m\u001b[1;33m\u001b[0m\u001b[0m\n\u001b[0m\u001b[0;32m   1091\u001b[0m                 \u001b[1;32mexcept\u001b[0m \u001b[0mOSError\u001b[0m\u001b[1;33m:\u001b[0m\u001b[1;33m\u001b[0m\u001b[0m\n\u001b[0;32m   1092\u001b[0m                     \u001b[1;32mif\u001b[0m \u001b[0mfilemode\u001b[0m \u001b[1;32min\u001b[0m \u001b[0mmodeDict\u001b[0m\u001b[1;33m:\u001b[0m\u001b[1;33m\u001b[0m\u001b[0m\n",
      "\u001b[1;31mPermissionError\u001b[0m: [Errno 13] Permission denied: 'Optimal Plants.xlsx'"
     ]
    }
   ],
   "source": [
    "# Model 2 Document Exportation\n",
    "rl.to_excel('Optimal Plants.xlsx')"
   ]
  },
  {
   "cell_type": "markdown",
   "metadata": {},
   "source": [
    "## Result"
   ]
  },
  {
   "cell_type": "code",
   "execution_count": null,
   "metadata": {},
   "outputs": [],
   "source": [
    "# Total Optimal Cost\n",
    "total_cost = cost_1 + cost_2\n",
    "\n",
    "total_amount = \"${:,.2f}\".format(total_cost)\n",
    "\n",
    "print('The total optimal network cost is ' + total_amount)"
   ]
  },
  {
   "cell_type": "code",
   "execution_count": null,
   "metadata": {
    "collapsed": true
   },
   "outputs": [],
   "source": []
  }
 ],
 "metadata": {
  "kernelspec": {
   "display_name": "Python 3",
   "language": "python",
   "name": "python3"
  },
  "language_info": {
   "codemirror_mode": {
    "name": "ipython",
    "version": 3
   },
   "file_extension": ".py",
   "mimetype": "text/x-python",
   "name": "python",
   "nbconvert_exporter": "python",
   "pygments_lexer": "ipython3",
   "version": "3.6.3"
  }
 },
 "nbformat": 4,
 "nbformat_minor": 2
}
